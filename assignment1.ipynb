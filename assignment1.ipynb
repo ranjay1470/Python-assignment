{
 "cells": [
  {
   "cell_type": "markdown",
   "id": "e3979d79-f4b8-434c-a61e-31b0721b1df2",
   "metadata": {},
   "source": [
    "1) Write a python that simulates a basic calculator, performing addition, subtraction, multiplication and division.\n"
   ]
  },
  {
   "cell_type": "code",
   "execution_count": 5,
   "id": "4a420040-89fa-49fc-b7da-392ec2d4eca9",
   "metadata": {},
   "outputs": [
    {
     "name": "stdout",
     "output_type": "stream",
     "text": [
      "Simple Calculator\n",
      "Operations: + for addition, - for subtraction, * for multiplication, / for division\n"
     ]
    },
    {
     "name": "stdin",
     "output_type": "stream",
     "text": [
      "Enter first number:  1\n",
      "Enter operator (+, -, *, /):  *\n",
      "Enter second number:  3\n"
     ]
    },
    {
     "name": "stdout",
     "output_type": "stream",
     "text": [
      "Result: 3.0\n"
     ]
    }
   ],
   "source": [
    "def calculator():\n",
    "    print(\"Simple Calculator\")\n",
    "    print(\"Operations: + for addition, - for subtraction, * for multiplication, / for division\")\n",
    "\n",
    "    try:\n",
    "        num1 = float(input(\"Enter first number: \"))\n",
    "        operator = input(\"Enter operator (+, -, *, /): \")\n",
    "        num2 = float(input(\"Enter second number: \"))\n",
    "\n",
    "        if operator == '+':\n",
    "            result = num1 + num2\n",
    "            print(\"Result:\", result)\n",
    "        elif operator == '-':\n",
    "            result = num1 - num2\n",
    "            print(\"Result:\", result)\n",
    "        elif operator == '*':\n",
    "            result = num1 * num2\n",
    "            print(\"Result:\", result)\n",
    "        elif operator == '/':\n",
    "            if num2 != 0:\n",
    "                result = num1 / num2\n",
    "                print(\"Result:\", result)\n",
    "            else:\n",
    "                print(\"Error: Division by zero is not allowed.\")\n",
    "        else:\n",
    "            print(\"Invalid operator selected.\")\n",
    "    except ValueError:\n",
    "        print(\"Invalid input: Please enter numeric values.\")\n",
    "\n",
    "# Run the calculator\n",
    "calculator()\n"
   ]
  },
  {
   "cell_type": "markdown",
   "id": "9a0062b2-de92-4f0f-92e9-2b8c2e626075",
   "metadata": {},
   "source": [
    "2) Write a Python program that converts a given decimal number to its binary equivalent."
   ]
  },
  {
   "cell_type": "code",
   "execution_count": null,
   "id": "494f192e-65ed-4fa1-be97-4f8a898584cc",
   "metadata": {},
   "outputs": [],
   "source": [
    "\n",
    "def decimal_to_binary():# Program to convert decimal number to binary\n",
    "    decimal = int(input(\"Enter a decimal number: \"))\n",
    "    binary = bin(decimal)[2:]\n",
    "\n",
    "    print(f\"Binary equivalent: {binary}\")\n",
    "decimal_to_binary()\n"
   ]
  },
  {
   "cell_type": "markdown",
   "id": "20ff2512-74d2-4686-b2e8-17994c6f0809",
   "metadata": {},
   "source": [
    "3) Write a Python program that asks for the user's age and then prints a message stating whether\n",
    "the user is a minor, an adult, or a senior.\n"
   ]
  },
  {
   "cell_type": "code",
   "execution_count": null,
   "id": "9f4d7069-8de3-4eb7-8873-b324e48d588a",
   "metadata": {},
   "outputs": [],
   "source": [
    "age = int(input(\"enter your age:\"))\n",
    "if age < 18:\n",
    "    print(\"your are a minor\")\n",
    "elif age < 60:\n",
    "    print(\"your are an adult\")\n",
    "else:\n",
    "    print(\"you are senior\")"
   ]
  },
  {
   "cell_type": "markdown",
   "id": "3bb74d0b-8fea-4a63-afbc-8f1471ade17f",
   "metadata": {},
   "source": [
    "4. Write a Python program to swap the values of two variables without using a third variable."
   ]
  },
  {
   "cell_type": "code",
   "execution_count": null,
   "id": "2c42a932-ef6e-4f07-a30e-26da8dd38b13",
   "metadata": {},
   "outputs": [],
   "source": [
    "a = int(input(\"enter first number (a):\"))\n",
    "b = int(input(\"enter second number number (b):\"))\n",
    "#swapping the value without using the third value \n",
    "a = a+b\n",
    "b = a-b\n",
    "a = a-b\n",
    "\n",
    "print(\"after swapping:\")\n",
    "print(\"a=\",a)\n",
    "print(\"b=\", b)"
   ]
  },
  {
   "cell_type": "markdown",
   "id": "641250db-275d-4664-98af-7a49a0a281bf",
   "metadata": {},
   "source": [
    "5. Write a Python program to print the first 10 numbers of the Fibonacci series"
   ]
  },
  {
   "cell_type": "code",
   "execution_count": null,
   "id": "247c2fee-ebc0-4d95-9134-56345ef5e2a0",
   "metadata": {},
   "outputs": [],
   "source": [
    "a = 0\n",
    "b = 1\n",
    "\n",
    "print(\"First 10 Fibonacci numbers:\")\n",
    "print(a, b, end=\" \")\n",
    "\n",
    "for _ in range(8):  \n",
    "    c = a + b\n",
    "    print(c, end=\" \")\n",
    "    a = b\n",
    "    b = c\n"
   ]
  },
  {
   "cell_type": "markdown",
   "id": "1107d3d6-549f-43b6-9d06-ac1140e7be3d",
   "metadata": {},
   "source": [
    "6) Write a Python program to check if a given number is prime or not."
   ]
  },
  {
   "cell_type": "code",
   "execution_count": null,
   "id": "66ad4842-027b-4a13-a9ff-0829a212934e",
   "metadata": {},
   "outputs": [],
   "source": [
    "num = int(input(\"Enter a number: \"))\n",
    "\n",
    "if num <= 1:\n",
    "    print(\"Not a prime number.\")\n",
    "else:\n",
    "    is_prime = True\n",
    "    for i in range(2, int(num**0.5) + 1):\n",
    "        if num % i == 0:\n",
    "            is_prime = False\n",
    "            break\n",
    "    if is_prime:\n",
    "        print(\"It's a prime number.\")\n",
    "    else:\n",
    "        print(\"Not a prime number.\")\n"
   ]
  },
  {
   "cell_type": "markdown",
   "id": "b9458822-0de6-4be0-9b07-dbb9b89dae12",
   "metadata": {},
   "source": [
    "7) Write a Python program that takes three numbers as input and checks if the third number is the\n",
    "sum of the first two numbers using logical operators."
   ]
  },
  {
   "cell_type": "code",
   "execution_count": null,
   "id": "18840ab1-6171-4d5d-97dd-16ea95b5fdab",
   "metadata": {},
   "outputs": [],
   "source": [
    "\n",
    "a = float(input(\"Enter the first number: \"))\n",
    "b = float(input(\"Enter the second number: \"))\n",
    "c = float(input(\"Enter the third number: \"))\n",
    "\n",
    "if c == a + b:\n",
    "    print(\"The third number is the sum of the first two numbers.\")\n",
    "else:\n",
    "    print(\"The third number is NOT the sum of the first two numbers.\")\n"
   ]
  },
  {
   "cell_type": "markdown",
   "id": "4327ccd6-008d-47af-a278-e95c95995048",
   "metadata": {},
   "source": [
    "8) Write a Python program that imports a custom module you created with a function that returns\n",
    "the factorial of a number.\n"
   ]
  },
  {
   "cell_type": "code",
   "execution_count": null,
   "id": "44e179e4-fa59-49dc-9082-494928ee938c",
   "metadata": {},
   "outputs": [],
   "source": [
    "\n",
    "def factorial(n):\n",
    "    if n < 0:\n",
    "        return \"Factorial not defined for negative numbers.\"\n",
    "    elif n == 0 or n == 1:\n",
    "        return 1\n",
    "    else:\n",
    "        result = 1\n",
    "        for i in range(2, n + 1):\n",
    "            result *= i\n",
    "        return result\n",
    "import factorial_module\n",
    "\n",
    "num = int(input(\"Enter number: \"))\n",
    "print(\"Factorial:\", factorial_module.factorial(num))"
   ]
  },
  {
   "cell_type": "markdown",
   "id": "170e5c74-20db-4dd3-9ddf-bb0fd20d820a",
   "metadata": {},
   "source": [
    "9) Write a Python program that takes two numbers as input and performs division, handling the\n",
    "case where the divisor is zero."
   ]
  },
  {
   "cell_type": "code",
   "execution_count": null,
   "id": "e60713fa-f801-4213-a196-d31a037d0a83",
   "metadata": {},
   "outputs": [],
   "source": [
    "\n",
    "numerator_input = input(\"Enter the numerator: \")\n",
    "denominator_input = input(\"Enter the denominator: \")\n",
    "\n",
    "if numerator_input.replace('.', '', 1).isdigit() and denominator_input.replace('.', '', 1).isdigit():\n",
    "    numerator = float(numerator_input)\n",
    "    denominator = float(denominator_input)\n",
    "\n",
    "    if denominator == 0:\n",
    "        print(\"Error: Division by zero is not allowed.\")\n",
    "    else:\n",
    "        result = numerator / denominator\n",
    "        print(f\"Result of division: {result}\")\n",
    "else:\n",
    "    print(\"Invalid input. Please enter numeric values.\")\n"
   ]
  },
  {
   "cell_type": "markdown",
   "id": "8196f881-6fec-4e7c-a566-01a298a241cd",
   "metadata": {},
   "source": [
    "10) Write a Python function that takes a list of numbers and returns the maximum value in the list. "
   ]
  },
  {
   "cell_type": "code",
   "execution_count": null,
   "id": "feaf7ff9-3815-4401-8dbd-3fc1df557793",
   "metadata": {},
   "outputs": [],
   "source": [
    "def find_maximum(numbers):\n",
    "    if not numbers:\n",
    "        return \"The list is empty.\"\n",
    "\n",
    "    max_value = numbers[0]\n",
    "    for num in numbers[1:]:\n",
    "        if num > max_value:\n",
    "            max_value = num\n",
    "    return max_value\n",
    "\n",
    "my_list = [3, 1, 27, 15, 29]\n",
    "result = find_maximum(my_list)\n",
    "print(\"The maximum value in the list is:\", result)\n",
    "\n",
    "\n"
   ]
  },
  {
   "cell_type": "markdown",
   "id": "33d46041-1e2d-4940-ae8e-f6c712c9dc43",
   "metadata": {},
   "source": [
    "11) Write a Python function that takes a name and an optional age parameter and prints a greeting.\n",
    "If the age is not provided, it should default to 25."
   ]
  },
  {
   "cell_type": "code",
   "execution_count": null,
   "id": "6f4f8388-a70e-4764-bf5f-284ddeaf00bf",
   "metadata": {},
   "outputs": [],
   "source": [
    "def greet(name, age=25):\n",
    "    print(f\"Hello, {name}! You are {age} years old.\")\n",
    "\n",
    "greet(\"Alice\")       \n",
    "greet(\"Bob\", 30)         \n"
   ]
  },
  {
   "cell_type": "markdown",
   "id": "bca8167a-bede-4dfb-ab25-e092e9dc0daf",
   "metadata": {},
   "source": [
    "12) Write a Python program to count the number of vowels in a given string."
   ]
  },
  {
   "cell_type": "code",
   "execution_count": null,
   "id": "ec9ee4f5-5dae-4fe9-9232-54804f7ecf2f",
   "metadata": {},
   "outputs": [],
   "source": [
    "\n",
    "s = input(\"Enter a string: \").lower()\n",
    "vowels = \"aeiou\"\n",
    "count = sum(1 for char in s if char in vowels)\n",
    "print(\"Number of vowels:\", count)\n"
   ]
  },
  {
   "cell_type": "markdown",
   "id": "a83b5d24-7c6d-43cb-b711-f684e839b1b6",
   "metadata": {},
   "source": [
    "13) Write a Python program that prints a multiplication table up to (numberx10)"
   ]
  },
  {
   "cell_type": "code",
   "execution_count": null,
   "id": "18ed744e-bd51-411a-b1f7-3c15234c30fe",
   "metadata": {},
   "outputs": [],
   "source": [
    "num = int(input(\"Enter number: \"))\n",
    "for i in range(1, 11):\n",
    "    print(f\"{num} x {i} = {num * i}\")"
   ]
  },
  {
   "cell_type": "markdown",
   "id": "e5d30162-3e4a-4102-86f8-441b11b67d87",
   "metadata": {},
   "source": [
    "14) Write a Python program to print a right-angled triangle of '*' with a given number of rows. For\n",
    "example, if the number of rows is 5, the output should be:\n",
    "*\n",
    "**\n",
    "***\n",
    "****\n",
    "*****"
   ]
  },
  {
   "cell_type": "code",
   "execution_count": null,
   "id": "cdcd69a7-67bc-4f58-a7f2-cc6c9c25a11e",
   "metadata": {},
   "outputs": [],
   "source": [
    "rows = int(input(\"Enter rows: \"))\n",
    "for i in range(1, rows + 1):\n",
    "    print('*' * i)"
   ]
  },
  {
   "cell_type": "markdown",
   "id": "0968e770-7352-40f1-9724-0770e373b115",
   "metadata": {},
   "source": [
    " 15) Write a Python program to print a pyramid of '*' with a given number of rows.\n",
    "     *\n",
    "    ***\n",
    "   *****\n",
    "  *******\n",
    " *********"
   ]
  },
  {
   "cell_type": "code",
   "execution_count": null,
   "id": "7fe753eb-cb4a-4d15-8173-4ea4b926cd23",
   "metadata": {},
   "outputs": [],
   "source": [
    "\n",
    "rows = int(input(\"Enter rows: \"))\n",
    "for i in range(rows):\n",
    "    print(' ' * (rows - i - 1) + '*' * (2 * i + 1))"
   ]
  },
  {
   "cell_type": "code",
   "execution_count": null,
   "id": "814cd9fc-7564-4b66-8cd3-cc269fab02cf",
   "metadata": {},
   "outputs": [],
   "source": []
  },
  {
   "cell_type": "code",
   "execution_count": null,
   "id": "8c35bbd7-f835-4871-b23c-41d1a06ce352",
   "metadata": {},
   "outputs": [],
   "source": []
  },
  {
   "cell_type": "markdown",
   "id": "0bf2c177-3638-4490-af52-ecb28b7f789b",
   "metadata": {},
   "source": [
    "Set B"
   ]
  },
  {
   "cell_type": "markdown",
   "id": "8e79855a-31c4-4bf1-b7f8-3a80f9024a21",
   "metadata": {},
   "source": [
    " 1) Given an integer x, return true if x is a palindrome, and false otherwise. (LeetCode: Palindrome Number)"
   ]
  },
  {
   "cell_type": "code",
   "execution_count": null,
   "id": "ca39bffa-b008-402c-9c84-e1540563aa9a",
   "metadata": {},
   "outputs": [],
   "source": [
    "x = int(input(\"Enter number: \"))\n",
    "if str(x) == str(x)[::-1]:\n",
    "    print(True)\n",
    "else:\n",
    "    print(False)"
   ]
  },
  {
   "cell_type": "markdown",
   "id": "ae4d9fb4-be5e-4d67-a39d-a2dab34b64f7",
   "metadata": {},
   "source": [
    "2) Given a non-empty array of integers nums, every element appears twice except for one. Find that single one.\n",
    "(LeetCode: Single Number)"
   ]
  },
  {
   "cell_type": "code",
   "execution_count": 4,
   "id": "db773475-7bf2-4c72-ada9-211f6b3a5d00",
   "metadata": {},
   "outputs": [
    {
     "name": "stdout",
     "output_type": "stream",
     "text": [
      "Single Number: 4\n"
     ]
    }
   ],
   "source": [
    "\n",
    "\n",
    "nums = [4, 1, 2, 1, 2]\n",
    "result = 0\n",
    "for num in nums:\n",
    "    result ^= num\n",
    "print(\"Single Number:\", result)\n",
    "\n"
   ]
  },
  {
   "cell_type": "markdown",
   "id": "19ec70fd-5dac-45ea-bba2-0048f21ea651",
   "metadata": {},
   "source": [
    "3) Given an array of integers nums and an integer target, return indices of the two numbers such that they add up to target.\n",
    "    (LeetCode: Two Sum)"
   ]
  },
  {
   "cell_type": "code",
   "execution_count": 3,
   "id": "8b7a364f-d364-48e1-834d-810459d6dd87",
   "metadata": {},
   "outputs": [
    {
     "name": "stdout",
     "output_type": "stream",
     "text": [
      "[0, 1]\n"
     ]
    }
   ],
   "source": [
    "\n",
    "nums = [2, 7, 11, 15]\n",
    "target = 9\n",
    "for i in range(len(nums)):\n",
    "    for j in range(i + 1, len(nums)):\n",
    "        if nums[i] + nums[j] == target:\n",
    "            print([i, j])"
   ]
  },
  {
   "cell_type": "markdown",
   "id": "f9cf51a6-2c4e-4b50-b116-ef7b62fff602",
   "metadata": {},
   "source": [
    "4) Write an algorithm to determine if a number n is happy. (LeetCode: Happy Number)"
   ]
  },
  {
   "cell_type": "code",
   "execution_count": 2,
   "id": "9af8ad57-1779-440c-839c-f1ca6b443772",
   "metadata": {},
   "outputs": [
    {
     "name": "stdout",
     "output_type": "stream",
     "text": [
      "True\n"
     ]
    }
   ],
   "source": [
    "\n",
    "def is_happy(n):\n",
    "    seen = set()\n",
    "    while n != 1 and n not in seen:\n",
    "        seen.add(n)\n",
    "        n = sum(int(ch) ** 2 for ch in str(n))\n",
    "    return n == 1\n",
    "\n",
    "print(is_happy(19))\n"
   ]
  },
  {
   "cell_type": "markdown",
   "id": "d270017f-1fcf-4cf2-bbb7-9573c4ba6afa",
   "metadata": {},
   "source": [
    " 5) Given an integer array nums, return true if any value appears at least twice in the array, \n",
    "and return false if every element is distinct.(LeetCode: Contains Duplicate)"
   ]
  },
  {
   "cell_type": "code",
   "execution_count": 1,
   "id": "a97b4f8e-861d-41d3-b020-c486886df971",
   "metadata": {},
   "outputs": [
    {
     "name": "stdout",
     "output_type": "stream",
     "text": [
      "True\n"
     ]
    }
   ],
   "source": [
    "#\n",
    "nums = [1, 2, 3, 1]\n",
    "if len(nums) != len(set(nums)):\n",
    "    print(True)\n",
    "else:\n",
    "    print(False)"
   ]
  },
  {
   "cell_type": "code",
   "execution_count": null,
   "id": "18feafa0-dab5-4b7a-9abb-eaea1c7ad7ab",
   "metadata": {},
   "outputs": [],
   "source": []
  }
 ],
 "metadata": {
  "kernelspec": {
   "display_name": "Python 3 (ipykernel)",
   "language": "python",
   "name": "python3"
  },
  "language_info": {
   "codemirror_mode": {
    "name": "ipython",
    "version": 3
   },
   "file_extension": ".py",
   "mimetype": "text/x-python",
   "name": "python",
   "nbconvert_exporter": "python",
   "pygments_lexer": "ipython3",
   "version": "3.10.0"
  }
 },
 "nbformat": 4,
 "nbformat_minor": 5
}
